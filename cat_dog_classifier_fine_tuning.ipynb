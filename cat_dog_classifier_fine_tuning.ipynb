{
  "nbformat": 4,
  "nbformat_minor": 0,
  "metadata": {
    "colab": {
      "name": "cat_dog_classifier_fine_tuning.ipynb",
      "version": "0.3.2",
      "provenance": [],
      "collapsed_sections": [],
      "include_colab_link": true
    },
    "language_info": {
      "codemirror_mode": {
        "name": "ipython",
        "version": 3
      },
      "file_extension": ".py",
      "mimetype": "text/x-python",
      "name": "python",
      "nbconvert_exporter": "python",
      "pygments_lexer": "ipython3",
      "version": "3.7.3"
    },
    "kernelspec": {
      "name": "python3",
      "display_name": "Python 3"
    },
    "accelerator": "GPU"
  },
  "cells": [
    {
      "cell_type": "markdown",
      "metadata": {
        "id": "view-in-github",
        "colab_type": "text"
      },
      "source": [
        "<a href=\"https://colab.research.google.com/github/riyabhatnagar021/Cat-dog_classifier_using_VGG16/blob/master/cat_dog_classifier_fine_tuning.ipynb\" target=\"_parent\"><img src=\"https://colab.research.google.com/assets/colab-badge.svg\" alt=\"Open In Colab\"/></a>"
      ]
    },
    {
      "cell_type": "code",
      "metadata": {
        "id": "Akdr5CUSmGgC",
        "colab_type": "code",
        "outputId": "12548b92-f071-442c-f041-b191b968853f",
        "colab": {
          "base_uri": "https://localhost:8080/",
          "height": 35
        }
      },
      "source": [
        "import numpy as np\n",
        "import pandas as pd \n",
        "from keras.preprocessing.image import ImageDataGenerator, load_img\n",
        "from keras.utils import to_categorical\n",
        "from sklearn.model_selection import train_test_split\n",
        "import matplotlib.pyplot as plt\n",
        "import random\n",
        "import os\n",
        "# print(os.listdir(\"../input\"))"
      ],
      "execution_count": 0,
      "outputs": [
        {
          "output_type": "stream",
          "text": [
            "Using TensorFlow backend.\n"
          ],
          "name": "stderr"
        }
      ]
    },
    {
      "cell_type": "code",
      "metadata": {
        "id": "t5EW3VWhDMVK",
        "colab_type": "code",
        "outputId": "33bc714b-d515-4036-d4a7-461950ec349a",
        "colab": {
          "base_uri": "https://localhost:8080/",
          "height": 128
        }
      },
      "source": [
        "from google.colab import drive\n",
        "drive.mount('/content/drive')"
      ],
      "execution_count": 0,
      "outputs": [
        {
          "output_type": "stream",
          "text": [
            "Go to this URL in a browser: https://accounts.google.com/o/oauth2/auth?client_id=947318989803-6bn6qk8qdgf4n4g3pfee6491hc0brc4i.apps.googleusercontent.com&redirect_uri=urn%3Aietf%3Awg%3Aoauth%3A2.0%3Aoob&scope=email%20https%3A%2F%2Fwww.googleapis.com%2Fauth%2Fdocs.test%20https%3A%2F%2Fwww.googleapis.com%2Fauth%2Fdrive%20https%3A%2F%2Fwww.googleapis.com%2Fauth%2Fdrive.photos.readonly%20https%3A%2F%2Fwww.googleapis.com%2Fauth%2Fpeopleapi.readonly&response_type=code\n",
            "\n",
            "Enter your authorization code:\n",
            "··········\n",
            "Mounted at /content/drive\n"
          ],
          "name": "stdout"
        }
      ]
    },
    {
      "cell_type": "code",
      "metadata": {
        "id": "b0zHcXpRmGgV",
        "colab_type": "code",
        "colab": {}
      },
      "source": [
        "FAST_RUN = False\n",
        "IMAGE_WIDTH=128\n",
        "IMAGE_HEIGHT=128\n",
        "IMAGE_SIZE=(IMAGE_WIDTH, IMAGE_HEIGHT)\n",
        "IMAGE_CHANNELS=3"
      ],
      "execution_count": 0,
      "outputs": []
    },
    {
      "cell_type": "code",
      "metadata": {
        "id": "jMscqeWpDzb1",
        "colab_type": "code",
        "colab": {}
      },
      "source": [
        "import zipfile\n",
        "zer=zipfile.ZipFile('drive/My Drive/GG.zip','r')\n",
        "zer.extractall()\n",
        "zer.close()"
      ],
      "execution_count": 0,
      "outputs": []
    },
    {
      "cell_type": "code",
      "metadata": {
        "id": "TsPyj2ADmGge",
        "colab_type": "code",
        "colab": {}
      },
      "source": [
        "filenames = os.listdir(\"GG/\")\n",
        "categories = []\n",
        "for filename in filenames:\n",
        "    category = filename.split('.')[0]\n",
        "#     print(category)\n",
        "    if category == 'dog':\n",
        "        categories.append(1)\n",
        "    else:\n",
        "        categories.append(0)\n",
        "\n",
        "df = pd.DataFrame({\n",
        "    'filename': filenames,\n",
        "    'category': categories\n",
        "})"
      ],
      "execution_count": 0,
      "outputs": []
    },
    {
      "cell_type": "code",
      "metadata": {
        "id": "Qqj21nuREgV3",
        "colab_type": "code",
        "outputId": "8ca9eefe-a981-4e1a-fded-f440729a71e2",
        "colab": {
          "base_uri": "https://localhost:8080/",
          "height": 68
        }
      },
      "source": [
        "(df['category']).value_counts()"
      ],
      "execution_count": 0,
      "outputs": [
        {
          "output_type": "execute_result",
          "data": {
            "text/plain": [
              "1    4000\n",
              "0    4000\n",
              "Name: category, dtype: int64"
            ]
          },
          "metadata": {
            "tags": []
          },
          "execution_count": 97
        }
      ]
    },
    {
      "cell_type": "markdown",
      "metadata": {
        "id": "pt813RviyNeK",
        "colab_type": "text"
      },
      "source": [
        "FINE TUNING\n"
      ]
    },
    {
      "cell_type": "code",
      "metadata": {
        "id": "kSc0cfmvEk16",
        "colab_type": "code",
        "colab": {}
      },
      "source": [
        "from keras import applications\n",
        "input_shape=(IMAGE_WIDTH,IMAGE_HEIGHT,IMAGE_CHANNELS)\n",
        "pre_train_model=applications.VGG16(input_shape=input_shape,include_top=False,weights='imagenet')\n",
        "for layer in pre_train_model.layers[:15]:\n",
        "  layer.trainable=False\n",
        "last_layer=pre_train_model.get_layer('block5_pool')\n",
        "last_output=last_layer.output"
      ],
      "execution_count": 0,
      "outputs": []
    },
    {
      "cell_type": "code",
      "metadata": {
        "id": "m99p3jsOIQ3x",
        "colab_type": "code",
        "outputId": "a8f5149e-ee63-408d-8711-3eaabc43a536",
        "colab": {
          "base_uri": "https://localhost:8080/",
          "height": 34
        }
      },
      "source": [
        "last_output.shape[1:]"
      ],
      "execution_count": 0,
      "outputs": [
        {
          "output_type": "execute_result",
          "data": {
            "text/plain": [
              "TensorShape([Dimension(4), Dimension(4), Dimension(512)])"
            ]
          },
          "metadata": {
            "tags": []
          },
          "execution_count": 99
        }
      ]
    },
    {
      "cell_type": "code",
      "metadata": {
        "id": "VZYzETGgGQ11",
        "colab_type": "code",
        "colab": {}
      },
      "source": [
        "from keras.models import Sequential\n",
        "from keras.layers import Dense,GlobalAveragePooling2D,Flatten"
      ],
      "execution_count": 0,
      "outputs": []
    },
    {
      "cell_type": "code",
      "metadata": {
        "id": "ZJ4IdUw2Eky8",
        "colab_type": "code",
        "outputId": "170d023b-af70-45f5-c812-4352ea8cf6e2",
        "colab": {
          "base_uri": "https://localhost:8080/",
          "height": 238
        }
      },
      "source": [
        "top_model=Sequential()\n",
        "top_model.add(GlobalAveragePooling2D(input_shape=pre_train_model.output_shape[1:]))\n",
        "top_model.add(Dense(512,activation='relu'))\n",
        "top_model.add(Dense(1,activation='sigmoid'))\n",
        "\n",
        "top_model.summary()"
      ],
      "execution_count": 0,
      "outputs": [
        {
          "output_type": "stream",
          "text": [
            "_________________________________________________________________\n",
            "Layer (type)                 Output Shape              Param #   \n",
            "=================================================================\n",
            "global_average_pooling2d_4 ( (None, 512)               0         \n",
            "_________________________________________________________________\n",
            "dense_11 (Dense)             (None, 512)               262656    \n",
            "_________________________________________________________________\n",
            "dense_12 (Dense)             (None, 1)                 513       \n",
            "=================================================================\n",
            "Total params: 263,169\n",
            "Trainable params: 263,169\n",
            "Non-trainable params: 0\n",
            "_________________________________________________________________\n"
          ],
          "name": "stdout"
        }
      ]
    },
    {
      "cell_type": "code",
      "metadata": {
        "id": "WOa7iy0oHST3",
        "colab_type": "code",
        "outputId": "183e9a6c-913c-4cad-c7e1-db0ad2439745",
        "colab": {
          "base_uri": "https://localhost:8080/",
          "height": 204
        }
      },
      "source": [
        "model=Sequential()\n",
        "model.add(pre_train_model)\n",
        "model.add(top_model)\n",
        "model.summary()"
      ],
      "execution_count": 0,
      "outputs": [
        {
          "output_type": "stream",
          "text": [
            "_________________________________________________________________\n",
            "Layer (type)                 Output Shape              Param #   \n",
            "=================================================================\n",
            "vgg16 (Model)                (None, 4, 4, 512)         14714688  \n",
            "_________________________________________________________________\n",
            "sequential_9 (Sequential)    (None, 1)                 263169    \n",
            "=================================================================\n",
            "Total params: 14,977,857\n",
            "Trainable params: 7,342,593\n",
            "Non-trainable params: 7,635,264\n",
            "_________________________________________________________________\n"
          ],
          "name": "stdout"
        }
      ]
    },
    {
      "cell_type": "code",
      "metadata": {
        "id": "Dab-nTgqKH73",
        "colab_type": "code",
        "colab": {}
      },
      "source": [
        "from keras import optimizers"
      ],
      "execution_count": 0,
      "outputs": []
    },
    {
      "cell_type": "code",
      "metadata": {
        "id": "R5xdRdh-Ekut",
        "colab_type": "code",
        "colab": {}
      },
      "source": [
        "model.compile(loss='binary_crossentropy',optimizer=optimizers.SGD(lr=1e-4,momentum=0.9),metrics=['accuracy'])"
      ],
      "execution_count": 0,
      "outputs": []
    },
    {
      "cell_type": "code",
      "metadata": {
        "id": "U-i4PP9nEkrB",
        "colab_type": "code",
        "outputId": "37d97e97-73d6-4238-b7d5-3c9705d64838",
        "colab": {
          "base_uri": "https://localhost:8080/",
          "height": 204
        }
      },
      "source": [
        "model.summary()"
      ],
      "execution_count": 0,
      "outputs": [
        {
          "output_type": "stream",
          "text": [
            "_________________________________________________________________\n",
            "Layer (type)                 Output Shape              Param #   \n",
            "=================================================================\n",
            "vgg16 (Model)                (None, 4, 4, 512)         14714688  \n",
            "_________________________________________________________________\n",
            "sequential_9 (Sequential)    (None, 1)                 263169    \n",
            "=================================================================\n",
            "Total params: 14,977,857\n",
            "Trainable params: 7,342,593\n",
            "Non-trainable params: 7,635,264\n",
            "_________________________________________________________________\n"
          ],
          "name": "stdout"
        }
      ]
    },
    {
      "cell_type": "code",
      "metadata": {
        "id": "VTcKMUGOmGg0",
        "colab_type": "code",
        "colab": {}
      },
      "source": [
        "df[\"category\"] = df[\"category\"].replace({0: 'cat', 1: 'dog'}) \n"
      ],
      "execution_count": 0,
      "outputs": []
    },
    {
      "cell_type": "code",
      "metadata": {
        "id": "NRcCyBz2mGg9",
        "colab_type": "code",
        "colab": {}
      },
      "source": [
        "train_df, validate_df = train_test_split(df, test_size=0.20, random_state=42)\n",
        "train_df = train_df.reset_index(drop=True)\n",
        "validate_df = validate_df.reset_index(drop=True)"
      ],
      "execution_count": 0,
      "outputs": []
    },
    {
      "cell_type": "code",
      "metadata": {
        "id": "OMDijvJymGhH",
        "colab_type": "code",
        "colab": {}
      },
      "source": [
        "total_train = train_df.shape[0]\n",
        "total_validate = validate_df.shape[0]\n",
        "batch_size=16"
      ],
      "execution_count": 0,
      "outputs": []
    },
    {
      "cell_type": "code",
      "metadata": {
        "id": "zGVPPQ5GmGhP",
        "colab_type": "code",
        "outputId": "e97cffb1-e07d-42ed-b2db-0a6ca8867251",
        "colab": {
          "base_uri": "https://localhost:8080/",
          "height": 34
        }
      },
      "source": [
        "train_datagen = ImageDataGenerator(\n",
        "    rotation_range=15,\n",
        "    rescale=1./255,\n",
        "    shear_range=0.1,\n",
        "    zoom_range=0.2,\n",
        "    horizontal_flip=True,\n",
        "    width_shift_range=0.1,\n",
        "    height_shift_range=0.1\n",
        ")\n",
        "\n",
        "train_generator = train_datagen.flow_from_dataframe(\n",
        "    train_df, \n",
        "    \"GG/\", \n",
        "    x_col='filename',\n",
        "    y_col='category',\n",
        "    target_size=IMAGE_SIZE,\n",
        "    class_mode='binary',\n",
        "    batch_size=batch_size\n",
        ")"
      ],
      "execution_count": 0,
      "outputs": [
        {
          "output_type": "stream",
          "text": [
            "Found 6400 validated image filenames belonging to 2 classes.\n"
          ],
          "name": "stdout"
        }
      ]
    },
    {
      "cell_type": "code",
      "metadata": {
        "id": "c8HNidJKmGhd",
        "colab_type": "code",
        "outputId": "b47863ec-1ac4-4a56-dc51-4457248d4a79",
        "colab": {
          "base_uri": "https://localhost:8080/",
          "height": 34
        }
      },
      "source": [
        "validation_datagen = ImageDataGenerator(rescale=1./255)\n",
        "validation_generator = validation_datagen.flow_from_dataframe(\n",
        "    validate_df, \n",
        "    \"GG/\", \n",
        "    x_col='filename',\n",
        "    y_col='category',\n",
        "    target_size=IMAGE_SIZE,\n",
        "    class_mode='binary',\n",
        "    batch_size=batch_size\n",
        ")"
      ],
      "execution_count": 0,
      "outputs": [
        {
          "output_type": "stream",
          "text": [
            "Found 1600 validated image filenames belonging to 2 classes.\n"
          ],
          "name": "stdout"
        }
      ]
    },
    {
      "cell_type": "code",
      "metadata": {
        "id": "Kbs8eUkUmGhv",
        "colab_type": "code",
        "outputId": "8fa19b8e-d1fd-4ab7-dd81-05cf04a66057",
        "colab": {
          "base_uri": "https://localhost:8080/",
          "height": 717
        }
      },
      "source": [
        "epochs=3 if FAST_RUN else 20\n",
        "history = model.fit_generator(\n",
        "    train_generator, \n",
        "    epochs=epochs,\n",
        "    validation_data=validation_generator,\n",
        "    validation_steps=total_validate//batch_size,\n",
        "    steps_per_epoch=total_train//batch_size\n",
        "#     callbacks=callbacks\n",
        ")"
      ],
      "execution_count": 0,
      "outputs": [
        {
          "output_type": "stream",
          "text": [
            "Epoch 1/20\n",
            "400/400 [==============================] - 46s 116ms/step - loss: 0.1760 - acc: 0.9295 - val_loss: 0.1530 - val_acc: 0.9419\n",
            "Epoch 2/20\n",
            "400/400 [==============================] - 46s 114ms/step - loss: 0.1715 - acc: 0.9291 - val_loss: 0.1776 - val_acc: 0.9319\n",
            "Epoch 3/20\n",
            "400/400 [==============================] - 45s 113ms/step - loss: 0.1639 - acc: 0.9328 - val_loss: 0.1844 - val_acc: 0.9306\n",
            "Epoch 4/20\n",
            "400/400 [==============================] - 48s 121ms/step - loss: 0.1588 - acc: 0.9327 - val_loss: 0.1571 - val_acc: 0.9413\n",
            "Epoch 5/20\n",
            "400/400 [==============================] - 48s 120ms/step - loss: 0.1571 - acc: 0.9377 - val_loss: 0.1562 - val_acc: 0.9425\n",
            "Epoch 6/20\n",
            "400/400 [==============================] - 51s 127ms/step - loss: 0.1596 - acc: 0.9372 - val_loss: 0.1493 - val_acc: 0.9431\n",
            "Epoch 7/20\n",
            "400/400 [==============================] - 45s 113ms/step - loss: 0.1431 - acc: 0.9444 - val_loss: 0.1705 - val_acc: 0.9363\n",
            "Epoch 8/20\n",
            "400/400 [==============================] - 45s 113ms/step - loss: 0.1453 - acc: 0.9422 - val_loss: 0.1340 - val_acc: 0.9506\n",
            "Epoch 9/20\n",
            "400/400 [==============================] - 45s 113ms/step - loss: 0.1414 - acc: 0.9420 - val_loss: 0.1371 - val_acc: 0.9450\n",
            "Epoch 10/20\n",
            "400/400 [==============================] - 45s 113ms/step - loss: 0.1363 - acc: 0.9438 - val_loss: 0.1467 - val_acc: 0.9456\n",
            "Epoch 11/20\n",
            "400/400 [==============================] - 45s 112ms/step - loss: 0.1271 - acc: 0.9497 - val_loss: 0.1364 - val_acc: 0.9500\n",
            "Epoch 12/20\n",
            "400/400 [==============================] - 45s 113ms/step - loss: 0.1233 - acc: 0.9502 - val_loss: 0.1428 - val_acc: 0.9456\n",
            "Epoch 13/20\n",
            "400/400 [==============================] - 52s 130ms/step - loss: 0.1276 - acc: 0.9488 - val_loss: 0.1580 - val_acc: 0.9437\n",
            "Epoch 14/20\n",
            "400/400 [==============================] - 45s 113ms/step - loss: 0.1227 - acc: 0.9520 - val_loss: 0.1594 - val_acc: 0.9406\n",
            "Epoch 15/20\n",
            "400/400 [==============================] - 45s 113ms/step - loss: 0.1247 - acc: 0.9497 - val_loss: 0.1414 - val_acc: 0.9450\n",
            "Epoch 16/20\n",
            "400/400 [==============================] - 45s 112ms/step - loss: 0.1227 - acc: 0.9511 - val_loss: 0.1301 - val_acc: 0.9506\n",
            "Epoch 17/20\n",
            "400/400 [==============================] - 44s 110ms/step - loss: 0.1102 - acc: 0.9566 - val_loss: 0.1284 - val_acc: 0.9531\n",
            "Epoch 18/20\n",
            "400/400 [==============================] - 50s 126ms/step - loss: 0.1072 - acc: 0.9605 - val_loss: 0.1897 - val_acc: 0.9319\n",
            "Epoch 19/20\n",
            "400/400 [==============================] - 51s 127ms/step - loss: 0.1020 - acc: 0.9608 - val_loss: 0.1573 - val_acc: 0.9456\n",
            "Epoch 20/20\n",
            "400/400 [==============================] - 48s 120ms/step - loss: 0.1029 - acc: 0.9587 - val_loss: 0.1327 - val_acc: 0.9537\n"
          ],
          "name": "stdout"
        }
      ]
    },
    {
      "cell_type": "code",
      "metadata": {
        "id": "6vH8lSbKmGiZ",
        "colab_type": "code",
        "outputId": "a2a2033d-7d63-4456-d037-c61920839c5d",
        "colab": {
          "base_uri": "https://localhost:8080/",
          "height": 286
        }
      },
      "source": [
        "import cv2\n",
        "def prepare(filepath):\n",
        "  \n",
        "  img_size=150\n",
        "  img_array=cv2.imread(filepath,cv2.IMREAD_COLOR)\n",
        "  \n",
        "  new_array=cv2.resize(img_array,(IMAGE_HEIGHT,IMAGE_WIDTH))\n",
        "  \n",
        "  we=new_array.reshape(-1,IMAGE_HEIGHT,IMAGE_WIDTH,3)\n",
        "  \n",
        "  \n",
        "  return we\n",
        "\n",
        "my_img='catte.jpg'\n",
        "prediction=model.predict([prepare(my_img)])\n",
        "\n",
        "img = image.load_img(my_img, target_size=(120, 120))\n",
        "plt.imshow(img)\n",
        "print(prediction)\n",
        "\n",
        "if(prediction<=0.5):\n",
        "  print('Its a cat')\n",
        "else:\n",
        "  print('Its a dog')\n"
      ],
      "execution_count": 0,
      "outputs": [
        {
          "output_type": "stream",
          "text": [
            "[[0.26502323]]\n"
          ],
          "name": "stdout"
        },
        {
          "output_type": "display_data",
          "data": {
            "image/png": "[encoded data removed]",
            "text/plain": [
              "<Figure size 432x288 with 1 Axes>"
            ]
          },
          "metadata": {
            "tags": []
          }
        }
      ]
    }
  ]
}